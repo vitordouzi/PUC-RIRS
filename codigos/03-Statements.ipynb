{
 "cells": [
  {
   "cell_type": "markdown",
   "id": "1ed5c495",
   "metadata": {},
   "source": [
    "# Statements"
   ]
  },
  {
   "cell_type": "markdown",
   "id": "86530e46",
   "metadata": {},
   "source": [
    "## Condicionais"
   ]
  },
  {
   "cell_type": "markdown",
   "id": "04303886",
   "metadata": {},
   "source": [
    "### `if`\n",
    "### `elif`\n",
    "### `else`"
   ]
  },
  {
   "cell_type": "markdown",
   "id": "a471988d",
   "metadata": {},
   "source": [
    "## Laços\n",
    "#### `while`\n",
    "#### `for`"
   ]
  },
  {
   "cell_type": "markdown",
   "id": "20a0391c",
   "metadata": {},
   "source": [
    "## <span style=\"color:red\">Exercícios</span>"
   ]
  },
  {
   "cell_type": "code",
   "execution_count": null,
   "id": "e742fd0c",
   "metadata": {},
   "outputs": [],
   "source": []
  }
 ],
 "metadata": {
  "kernelspec": {
   "display_name": "Python 3 (ipykernel)",
   "language": "python",
   "name": "python3"
  },
  "language_info": {
   "codemirror_mode": {
    "name": "ipython",
    "version": 3
   },
   "file_extension": ".py",
   "mimetype": "text/x-python",
   "name": "python",
   "nbconvert_exporter": "python",
   "pygments_lexer": "ipython3",
   "version": "3.10.6"
  }
 },
 "nbformat": 4,
 "nbformat_minor": 5
}
