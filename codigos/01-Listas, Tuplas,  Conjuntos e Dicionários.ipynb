{
 "cells": [
  {
   "cell_type": "markdown",
   "id": "9ceb33c1",
   "metadata": {},
   "source": [
    "# Listas, Tuplas, Conjuntos e Dicionários"
   ]
  },
  {
   "cell_type": "markdown",
   "id": "14df7bbb",
   "metadata": {},
   "source": [
    "## Construtores"
   ]
  },
  {
   "cell_type": "markdown",
   "id": "c7553649",
   "metadata": {},
   "source": [
    "## Comprehensions"
   ]
  },
  {
   "cell_type": "markdown",
   "id": "cbcc5553",
   "metadata": {},
   "source": [
    "## Operadores"
   ]
  },
  {
   "cell_type": "markdown",
   "id": "5326096e",
   "metadata": {},
   "source": [
    "## <span style=\"color:red\">Exercícios</span>\n",
    "### 1. TODO\n",
    "### 2. ..."
   ]
  },
  {
   "cell_type": "code",
   "execution_count": null,
   "id": "6d6f03b5",
   "metadata": {},
   "outputs": [],
   "source": []
  }
 ],
 "metadata": {
  "kernelspec": {
   "display_name": "Python 3 (ipykernel)",
   "language": "python",
   "name": "python3"
  },
  "language_info": {
   "codemirror_mode": {
    "name": "ipython",
    "version": 3
   },
   "file_extension": ".py",
   "mimetype": "text/x-python",
   "name": "python",
   "nbconvert_exporter": "python",
   "pygments_lexer": "ipython3",
   "version": "3.10.6"
  }
 },
 "nbformat": 4,
 "nbformat_minor": 5
}
