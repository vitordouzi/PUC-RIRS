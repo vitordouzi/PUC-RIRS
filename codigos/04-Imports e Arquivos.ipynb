{
 "cells": [
  {
   "cell_type": "markdown",
   "id": "df703a13",
   "metadata": {},
   "source": [
    "# Imports e Arquivos"
   ]
  },
  {
   "cell_type": "markdown",
   "id": "be648f1a",
   "metadata": {},
   "source": [
    "## Imports"
   ]
  },
  {
   "cell_type": "markdown",
   "id": "11f287cc",
   "metadata": {},
   "source": [
    "## Arquivos"
   ]
  },
  {
   "cell_type": "markdown",
   "id": "446bdd5d",
   "metadata": {},
   "source": [
    "### Abrindo/Fechando"
   ]
  },
  {
   "cell_type": "markdown",
   "id": "16ab518a",
   "metadata": {},
   "source": [
    "### Leitura/Escrita de Texto"
   ]
  },
  {
   "cell_type": "markdown",
   "id": "cf483ab8",
   "metadata": {},
   "source": [
    "## <span style=\"color:red\">Exercícios</span>"
   ]
  },
  {
   "cell_type": "markdown",
   "id": "1c6c23d2",
   "metadata": {},
   "source": [
    "##  <span style=\"color:green\">Extra: `os.Path`</span>"
   ]
  },
  {
   "cell_type": "code",
   "execution_count": null,
   "id": "c9e69183",
   "metadata": {},
   "outputs": [],
   "source": []
  }
 ],
 "metadata": {
  "kernelspec": {
   "display_name": "Python 3 (ipykernel)",
   "language": "python",
   "name": "python3"
  },
  "language_info": {
   "codemirror_mode": {
    "name": "ipython",
    "version": 3
   },
   "file_extension": ".py",
   "mimetype": "text/x-python",
   "name": "python",
   "nbconvert_exporter": "python",
   "pygments_lexer": "ipython3",
   "version": "3.10.6"
  }
 },
 "nbformat": 4,
 "nbformat_minor": 5
}
