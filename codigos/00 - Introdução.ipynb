{
 "cells": [
  {
   "cell_type": "markdown",
   "id": "3e675bc2",
   "metadata": {},
   "source": [
    "# Python"
   ]
  },
  {
   "cell_type": "markdown",
   "id": "34245815",
   "metadata": {},
   "source": [
    "## Tipos"
   ]
  },
  {
   "cell_type": "markdown",
   "id": "1a792bea",
   "metadata": {},
   "source": [
    "## Operadores"
   ]
  },
  {
   "cell_type": "markdown",
   "id": "0bb6245d",
   "metadata": {},
   "source": [
    "## <span style=\"color:red\">Exercícios</span>\n",
    "### 1. TODO\n",
    "### 2. ..."
   ]
  },
  {
   "cell_type": "markdown",
   "id": "71ba852c",
   "metadata": {},
   "source": [
    "## Cast"
   ]
  },
  {
   "cell_type": "markdown",
   "id": "ea6b9ca0",
   "metadata": {},
   "source": [
    "## <span style=\"color:red\">Exercícios</span>\n",
    "### 1. TODO\n",
    "### 2. ..."
   ]
  },
  {
   "cell_type": "code",
   "execution_count": null,
   "id": "1b5cc573",
   "metadata": {},
   "outputs": [],
   "source": []
  }
 ],
 "metadata": {
  "kernelspec": {
   "display_name": "Python 3 (ipykernel)",
   "language": "python",
   "name": "python3"
  },
  "language_info": {
   "codemirror_mode": {
    "name": "ipython",
    "version": 3
   },
   "file_extension": ".py",
   "mimetype": "text/x-python",
   "name": "python",
   "nbconvert_exporter": "python",
   "pygments_lexer": "ipython3",
   "version": "3.10.6"
  }
 },
 "nbformat": 4,
 "nbformat_minor": 5
}
