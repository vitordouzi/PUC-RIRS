{
 "cells": [
  {
   "cell_type": "markdown",
   "id": "1c35b512",
   "metadata": {},
   "source": [
    "# As maravilhas do `str`"
   ]
  },
  {
   "cell_type": "markdown",
   "id": "de354ac5",
   "metadata": {},
   "source": [
    "## `strip`"
   ]
  },
  {
   "cell_type": "markdown",
   "id": "67eed07c",
   "metadata": {},
   "source": [
    "## `split`"
   ]
  },
  {
   "cell_type": "markdown",
   "id": "6905bc05",
   "metadata": {},
   "source": [
    "## `replace`"
   ]
  },
  {
   "cell_type": "markdown",
   "id": "8a98e600",
   "metadata": {},
   "source": [
    "## <span style=\"color:red\">Exercícios</span>\n",
    "### 1. TODO\n",
    "### 2. ..."
   ]
  },
  {
   "cell_type": "markdown",
   "id": "d0eedc5a",
   "metadata": {},
   "source": [
    "## <span style=\"color:green\">Extra: `regex`</span>"
   ]
  },
  {
   "cell_type": "code",
   "execution_count": null,
   "id": "1e8ac0c0",
   "metadata": {},
   "outputs": [],
   "source": []
  }
 ],
 "metadata": {
  "kernelspec": {
   "display_name": "Python 3 (ipykernel)",
   "language": "python",
   "name": "python3"
  },
  "language_info": {
   "codemirror_mode": {
    "name": "ipython",
    "version": 3
   },
   "file_extension": ".py",
   "mimetype": "text/x-python",
   "name": "python",
   "nbconvert_exporter": "python",
   "pygments_lexer": "ipython3",
   "version": "3.10.6"
  }
 },
 "nbformat": 4,
 "nbformat_minor": 5
}
