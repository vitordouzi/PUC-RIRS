{
 "cells": [
  {
   "cell_type": "markdown",
   "id": "d7629cde",
   "metadata": {},
   "source": [
    "# Funções e Classes"
   ]
  },
  {
   "cell_type": "markdown",
   "id": "116e283b",
   "metadata": {},
   "source": [
    "## Funções"
   ]
  },
  {
   "cell_type": "markdown",
   "id": "8b4bfb13",
   "metadata": {},
   "source": [
    "### `map`"
   ]
  },
  {
   "cell_type": "markdown",
   "id": "7f00935c",
   "metadata": {},
   "source": [
    "### `reduce`"
   ]
  },
  {
   "cell_type": "markdown",
   "id": "2d5c9b23",
   "metadata": {},
   "source": [
    "## Classes"
   ]
  },
  {
   "cell_type": "markdown",
   "id": "be5be421",
   "metadata": {},
   "source": [
    "## <span style=\"color:red\">Exercícios</span>"
   ]
  },
  {
   "cell_type": "code",
   "execution_count": null,
   "id": "bf3b1d48",
   "metadata": {},
   "outputs": [],
   "source": []
  }
 ],
 "metadata": {
  "kernelspec": {
   "display_name": "Python 3 (ipykernel)",
   "language": "python",
   "name": "python3"
  },
  "language_info": {
   "codemirror_mode": {
    "name": "ipython",
    "version": 3
   },
   "file_extension": ".py",
   "mimetype": "text/x-python",
   "name": "python",
   "nbconvert_exporter": "python",
   "pygments_lexer": "ipython3",
   "version": "3.10.6"
  }
 },
 "nbformat": 4,
 "nbformat_minor": 5
}
